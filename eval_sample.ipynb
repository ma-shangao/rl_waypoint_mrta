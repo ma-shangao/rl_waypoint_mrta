{
 "cells": [
  {
   "cell_type": "markdown",
   "source": [
    "# A Sample of Evaluating a Trained Model"
   ],
   "metadata": {
    "collapsed": false,
    "pycharm": {
     "name": "#%% md\n"
    }
   }
  },
  {
   "cell_type": "code",
   "execution_count": 14,
   "outputs": [
    {
     "ename": "ImportError",
     "evalue": "cannot import name 'prepare_dataset' from 'eval' (/Users/masong/PycharmProjects/GNNClustering/eval.py)",
     "output_type": "error",
     "traceback": [
      "\u001B[0;31m---------------------------------------------------------------------------\u001B[0m",
      "\u001B[0;31mImportError\u001B[0m                               Traceback (most recent call last)",
      "Input \u001B[0;32mIn [14]\u001B[0m, in \u001B[0;36m<cell line: 1>\u001B[0;34m()\u001B[0m\n\u001B[0;32m----> 1\u001B[0m \u001B[38;5;28;01mfrom\u001B[39;00m \u001B[38;5;21;01meval\u001B[39;00m \u001B[38;5;28;01mimport\u001B[39;00m model_prepare, prepare_dataset\n\u001B[1;32m      2\u001B[0m \u001B[38;5;28;01mimport\u001B[39;00m \u001B[38;5;21;01margparse\u001B[39;00m\n",
      "\u001B[0;31mImportError\u001B[0m: cannot import name 'prepare_dataset' from 'eval' (/Users/masong/PycharmProjects/GNNClustering/eval.py)"
     ]
    }
   ],
   "source": [
    "from eval import model_prepare, prepare_dataset\n",
    "import argparse"
   ],
   "metadata": {
    "collapsed": false,
    "pycharm": {
     "name": "#%%\n"
    }
   }
  },
  {
   "cell_type": "markdown",
   "source": [
    "## Load some arguments"
   ],
   "metadata": {
    "collapsed": false,
    "pycharm": {
     "name": "#%% md\n"
    }
   }
  },
  {
   "cell_type": "code",
   "execution_count": 8,
   "outputs": [],
   "source": [
    "args = argparse.Namespace()\n",
    "args.model_type = 'mlp'\n",
    "args.clusters_num = 3\n",
    "args.feature_dim = 2\n",
    "args.hidden_dim = 128\n",
    "args.train = False\n",
    "args.eval = True\n",
    "args.data_type = 'random'\n",
    "args.sample_num = 1"
   ],
   "metadata": {
    "collapsed": false,
    "pycharm": {
     "name": "#%%\n"
    }
   }
  },
  {
   "cell_type": "markdown",
   "source": [
    "First, we need two principe inputs for this evaluation procedure: the trained model and the evaluation sample.\n",
    "\n",
    "We'll start with the trained model. you may feel free to try your own trained model by replacing the below directory to the one of your model."
   ],
   "metadata": {
    "collapsed": false,
    "pycharm": {
     "name": "#%% md\n"
    }
   }
  },
  {
   "cell_type": "code",
   "execution_count": 10,
   "outputs": [
    {
     "ename": "RuntimeError",
     "evalue": "Error(s) in loading state_dict for MlpGenPolicy:\n\tMissing key(s) in state_dict: \"actor_mlp.input_fc.weight\", \"actor_mlp.input_fc.bias\", \"actor_mlp.hidden_fc.weight\", \"actor_mlp.hidden_fc.bias\", \"actor_mlp.output_fc_1.weight\", \"actor_mlp.output_fc_1.bias\". \n\tUnexpected key(s) in state_dict: \"W_placeholder\", \"_init_embed.weight\", \"_init_embed.bias\", \"embedder.layers.0.0.module.W_query\", \"embedder.layers.0.0.module.W_key\", \"embedder.layers.0.0.module.W_val\", \"embedder.layers.0.0.module.W_out\", \"embedder.layers.0.1.normalizer.weight\", \"embedder.layers.0.1.normalizer.bias\", \"embedder.layers.0.1.normalizer.running_mean\", \"embedder.layers.0.1.normalizer.running_var\", \"embedder.layers.0.1.normalizer.num_batches_tracked\", \"embedder.layers.0.2.module.0.weight\", \"embedder.layers.0.2.module.0.bias\", \"embedder.layers.0.2.module.2.weight\", \"embedder.layers.0.2.module.2.bias\", \"embedder.layers.0.3.normalizer.weight\", \"embedder.layers.0.3.normalizer.bias\", \"embedder.layers.0.3.normalizer.running_mean\", \"embedder.layers.0.3.normalizer.running_var\", \"embedder.layers.0.3.normalizer.num_batches_tracked\", \"embedder.layers.1.0.module.W_query\", \"embedder.layers.1.0.module.W_key\", \"embedder.layers.1.0.module.W_val\", \"embedder.layers.1.0.module.W_out\", \"embedder.layers.1.1.normalizer.weight\", \"embedder.layers.1.1.normalizer.bias\", \"embedder.layers.1.1.normalizer.running_mean\", \"embedder.layers.1.1.normalizer.running_var\", \"embedder.layers.1.1.normalizer.num_batches_tracked\", \"embedder.layers.1.2.module.0.weight\", \"embedder.layers.1.2.module.0.bias\", \"embedder.layers.1.2.module.2.weight\", \"embedder.layers.1.2.module.2.bias\", \"embedder.layers.1.3.normalizer.weight\", \"embedder.layers.1.3.normalizer.bias\", \"embedder.layers.1.3.normalizer.running_mean\", \"embedder.layers.1.3.normalizer.running_var\", \"embedder.layers.1.3.normalizer.num_batches_tracked\", \"embedder.layers.2.0.module.W_query\", \"embedder.layers.2.0.module.W_key\", \"embedder.layers.2.0.module.W_val\", \"embedder.layers.2.0.module.W_out\", \"embedder.layers.2.1.normalizer.weight\", \"embedder.layers.2.1.normalizer.bias\", \"embedder.layers.2.1.normalizer.running_mean\", \"embedder.layers.2.1.normalizer.running_var\", \"embedder.layers.2.1.normalizer.num_batches_tracked\", \"embedder.layers.2.2.module.0.weight\", \"embedder.layers.2.2.module.0.bias\", \"embedder.layers.2.2.module.2.weight\", \"embedder.layers.2.2.module.2.bias\", \"embedder.layers.2.3.normalizer.weight\", \"embedder.layers.2.3.normalizer.bias\", \"embedder.layers.2.3.normalizer.running_mean\", \"embedder.layers.2.3.normalizer.running_var\", \"embedder.layers.2.3.normalizer.num_batches_tracked\", \"project_node_embeddings.weight\", \"project_fixed_context.weight\", \"project_step_context.weight\", \"group_classifier.weight\", \"project_out.weight\". ",
     "output_type": "error",
     "traceback": [
      "\u001B[0;31m---------------------------------------------------------------------------\u001B[0m",
      "\u001B[0;31mRuntimeError\u001B[0m                              Traceback (most recent call last)",
      "Input \u001B[0;32mIn [10]\u001B[0m, in \u001B[0;36m<cell line: 2>\u001B[0;34m()\u001B[0m\n\u001B[1;32m      1\u001B[0m args\u001B[38;5;241m.\u001B[39meval_dir \u001B[38;5;241m=\u001B[39m \u001B[38;5;124m'\u001B[39m\u001B[38;5;124mexample_model.pt\u001B[39m\u001B[38;5;124m'\u001B[39m\n\u001B[0;32m----> 2\u001B[0m model \u001B[38;5;241m=\u001B[39m \u001B[43mmodel_prepare\u001B[49m\u001B[43m(\u001B[49m\u001B[43margs\u001B[49m\u001B[43m)\u001B[49m\n",
      "File \u001B[0;32m~/PycharmProjects/GNNClustering/eval.py:54\u001B[0m, in \u001B[0;36mmodel_prepare\u001B[0;34m(args)\u001B[0m\n\u001B[1;32m     51\u001B[0m     model\u001B[38;5;241m.\u001B[39mtrain()\n\u001B[1;32m     52\u001B[0m \u001B[38;5;28;01melse\u001B[39;00m:\n\u001B[1;32m     53\u001B[0m     \u001B[38;5;66;03m# load the model\u001B[39;00m\n\u001B[0;32m---> 54\u001B[0m     \u001B[43mmodel\u001B[49m\u001B[38;5;241;43m.\u001B[39;49m\u001B[43mload_state_dict\u001B[49m\u001B[43m(\u001B[49m\u001B[43mtorch\u001B[49m\u001B[38;5;241;43m.\u001B[39;49m\u001B[43mload\u001B[49m\u001B[43m(\u001B[49m\u001B[43margs\u001B[49m\u001B[38;5;241;43m.\u001B[39;49m\u001B[43meval_dir\u001B[49m\u001B[43m)\u001B[49m\u001B[43m)\u001B[49m\n\u001B[1;32m     56\u001B[0m \u001B[38;5;28;01mreturn\u001B[39;00m model\n",
      "File \u001B[0;32m/opt/anaconda3/envs/GNNClustering_20220111/lib/python3.9/site-packages/torch/nn/modules/module.py:1482\u001B[0m, in \u001B[0;36mModule.load_state_dict\u001B[0;34m(self, state_dict, strict)\u001B[0m\n\u001B[1;32m   1477\u001B[0m         error_msgs\u001B[38;5;241m.\u001B[39minsert(\n\u001B[1;32m   1478\u001B[0m             \u001B[38;5;241m0\u001B[39m, \u001B[38;5;124m'\u001B[39m\u001B[38;5;124mMissing key(s) in state_dict: \u001B[39m\u001B[38;5;132;01m{}\u001B[39;00m\u001B[38;5;124m. \u001B[39m\u001B[38;5;124m'\u001B[39m\u001B[38;5;241m.\u001B[39mformat(\n\u001B[1;32m   1479\u001B[0m                 \u001B[38;5;124m'\u001B[39m\u001B[38;5;124m, \u001B[39m\u001B[38;5;124m'\u001B[39m\u001B[38;5;241m.\u001B[39mjoin(\u001B[38;5;124m'\u001B[39m\u001B[38;5;124m\"\u001B[39m\u001B[38;5;132;01m{}\u001B[39;00m\u001B[38;5;124m\"\u001B[39m\u001B[38;5;124m'\u001B[39m\u001B[38;5;241m.\u001B[39mformat(k) \u001B[38;5;28;01mfor\u001B[39;00m k \u001B[38;5;129;01min\u001B[39;00m missing_keys)))\n\u001B[1;32m   1481\u001B[0m \u001B[38;5;28;01mif\u001B[39;00m \u001B[38;5;28mlen\u001B[39m(error_msgs) \u001B[38;5;241m>\u001B[39m \u001B[38;5;241m0\u001B[39m:\n\u001B[0;32m-> 1482\u001B[0m     \u001B[38;5;28;01mraise\u001B[39;00m \u001B[38;5;167;01mRuntimeError\u001B[39;00m(\u001B[38;5;124m'\u001B[39m\u001B[38;5;124mError(s) in loading state_dict for \u001B[39m\u001B[38;5;132;01m{}\u001B[39;00m\u001B[38;5;124m:\u001B[39m\u001B[38;5;130;01m\\n\u001B[39;00m\u001B[38;5;130;01m\\t\u001B[39;00m\u001B[38;5;132;01m{}\u001B[39;00m\u001B[38;5;124m'\u001B[39m\u001B[38;5;241m.\u001B[39mformat(\n\u001B[1;32m   1483\u001B[0m                        \u001B[38;5;28mself\u001B[39m\u001B[38;5;241m.\u001B[39m\u001B[38;5;18m__class__\u001B[39m\u001B[38;5;241m.\u001B[39m\u001B[38;5;18m__name__\u001B[39m, \u001B[38;5;124m\"\u001B[39m\u001B[38;5;130;01m\\n\u001B[39;00m\u001B[38;5;130;01m\\t\u001B[39;00m\u001B[38;5;124m\"\u001B[39m\u001B[38;5;241m.\u001B[39mjoin(error_msgs)))\n\u001B[1;32m   1484\u001B[0m \u001B[38;5;28;01mreturn\u001B[39;00m _IncompatibleKeys(missing_keys, unexpected_keys)\n",
      "\u001B[0;31mRuntimeError\u001B[0m: Error(s) in loading state_dict for MlpGenPolicy:\n\tMissing key(s) in state_dict: \"actor_mlp.input_fc.weight\", \"actor_mlp.input_fc.bias\", \"actor_mlp.hidden_fc.weight\", \"actor_mlp.hidden_fc.bias\", \"actor_mlp.output_fc_1.weight\", \"actor_mlp.output_fc_1.bias\". \n\tUnexpected key(s) in state_dict: \"W_placeholder\", \"_init_embed.weight\", \"_init_embed.bias\", \"embedder.layers.0.0.module.W_query\", \"embedder.layers.0.0.module.W_key\", \"embedder.layers.0.0.module.W_val\", \"embedder.layers.0.0.module.W_out\", \"embedder.layers.0.1.normalizer.weight\", \"embedder.layers.0.1.normalizer.bias\", \"embedder.layers.0.1.normalizer.running_mean\", \"embedder.layers.0.1.normalizer.running_var\", \"embedder.layers.0.1.normalizer.num_batches_tracked\", \"embedder.layers.0.2.module.0.weight\", \"embedder.layers.0.2.module.0.bias\", \"embedder.layers.0.2.module.2.weight\", \"embedder.layers.0.2.module.2.bias\", \"embedder.layers.0.3.normalizer.weight\", \"embedder.layers.0.3.normalizer.bias\", \"embedder.layers.0.3.normalizer.running_mean\", \"embedder.layers.0.3.normalizer.running_var\", \"embedder.layers.0.3.normalizer.num_batches_tracked\", \"embedder.layers.1.0.module.W_query\", \"embedder.layers.1.0.module.W_key\", \"embedder.layers.1.0.module.W_val\", \"embedder.layers.1.0.module.W_out\", \"embedder.layers.1.1.normalizer.weight\", \"embedder.layers.1.1.normalizer.bias\", \"embedder.layers.1.1.normalizer.running_mean\", \"embedder.layers.1.1.normalizer.running_var\", \"embedder.layers.1.1.normalizer.num_batches_tracked\", \"embedder.layers.1.2.module.0.weight\", \"embedder.layers.1.2.module.0.bias\", \"embedder.layers.1.2.module.2.weight\", \"embedder.layers.1.2.module.2.bias\", \"embedder.layers.1.3.normalizer.weight\", \"embedder.layers.1.3.normalizer.bias\", \"embedder.layers.1.3.normalizer.running_mean\", \"embedder.layers.1.3.normalizer.running_var\", \"embedder.layers.1.3.normalizer.num_batches_tracked\", \"embedder.layers.2.0.module.W_query\", \"embedder.layers.2.0.module.W_key\", \"embedder.layers.2.0.module.W_val\", \"embedder.layers.2.0.module.W_out\", \"embedder.layers.2.1.normalizer.weight\", \"embedder.layers.2.1.normalizer.bias\", \"embedder.layers.2.1.normalizer.running_mean\", \"embedder.layers.2.1.normalizer.running_var\", \"embedder.layers.2.1.normalizer.num_batches_tracked\", \"embedder.layers.2.2.module.0.weight\", \"embedder.layers.2.2.module.0.bias\", \"embedder.layers.2.2.module.2.weight\", \"embedder.layers.2.2.module.2.bias\", \"embedder.layers.2.3.normalizer.weight\", \"embedder.layers.2.3.normalizer.bias\", \"embedder.layers.2.3.normalizer.running_mean\", \"embedder.layers.2.3.normalizer.running_var\", \"embedder.layers.2.3.normalizer.num_batches_tracked\", \"project_node_embeddings.weight\", \"project_fixed_context.weight\", \"project_step_context.weight\", \"group_classifier.weight\", \"project_out.weight\". "
     ]
    }
   ],
   "source": [
    "args.eval_dir = 'example_model.pt'\n",
    "model = model_prepare(args)"
   ],
   "metadata": {
    "collapsed": false,
    "pycharm": {
     "name": "#%%\n"
    }
   }
  },
  {
   "cell_type": "markdown",
   "source": [
    "After loaded the model to evaluate, we'll move on to the data."
   ],
   "metadata": {
    "collapsed": false,
    "pycharm": {
     "name": "#%% md\n"
    }
   }
  },
  {
   "cell_type": "code",
   "execution_count": 11,
   "outputs": [
    {
     "ename": "NameError",
     "evalue": "name 'prepare_dataset' is not defined",
     "output_type": "error",
     "traceback": [
      "\u001B[0;31m---------------------------------------------------------------------------\u001B[0m",
      "\u001B[0;31mNameError\u001B[0m                                 Traceback (most recent call last)",
      "Input \u001B[0;32mIn [11]\u001B[0m, in \u001B[0;36m<cell line: 1>\u001B[0;34m()\u001B[0m\n\u001B[0;32m----> 1\u001B[0m dataset \u001B[38;5;241m=\u001B[39m \u001B[43mprepare_dataset\u001B[49m(args)\n",
      "\u001B[0;31mNameError\u001B[0m: name 'prepare_dataset' is not defined"
     ]
    }
   ],
   "source": [
    "dataset = prepare_dataset(args)"
   ],
   "metadata": {
    "collapsed": false,
    "pycharm": {
     "name": "#%%\n"
    }
   }
  },
  {
   "cell_type": "code",
   "execution_count": null,
   "outputs": [],
   "source": [],
   "metadata": {
    "collapsed": false,
    "pycharm": {
     "name": "#%%\n"
    }
   }
  }
 ],
 "metadata": {
  "kernelspec": {
   "display_name": "Python 3",
   "language": "python",
   "name": "python3"
  },
  "language_info": {
   "codemirror_mode": {
    "name": "ipython",
    "version": 2
   },
   "file_extension": ".py",
   "mimetype": "text/x-python",
   "name": "python",
   "nbconvert_exporter": "python",
   "pygments_lexer": "ipython2",
   "version": "2.7.6"
  }
 },
 "nbformat": 4,
 "nbformat_minor": 0
}